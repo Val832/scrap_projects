{
 "cells": [
  {
   "cell_type": "code",
   "execution_count": 1,
   "metadata": {},
   "outputs": [],
   "source": [
    "import re \n",
    "import pandas as pd \n",
    "import requests\n",
    "\n",
    "from tools import Crawler\n",
    "\n",
    "BASE  =  \"https://www.formula1.com\" \n",
    "URL = (\"https://www.formula1.com/en/results.html/2023/races/1141/bahrain/race-result.html\")"
   ]
  },
  {
   "cell_type": "code",
   "execution_count": 2,
   "metadata": {},
   "outputs": [
    {
     "name": "stdout",
     "output_type": "stream",
     "text": [
      "<a class=\"resultsarchive-filter-item-link FilterTrigger selected\" data-name=\"year\" data-value=\"2023\" href=\"/en/results.html/2023/races.html\">\n",
      "<span class=\"clip\">2023</span>\n",
      "</a>\n"
     ]
    }
   ],
   "source": [
    "\n",
    "res = Crawler.extract_html(URL)\n",
    "href = Crawler.find_element(res, 'a', attrs_key= \"data-name\", attrs_value=\"year\")\n",
    "\n",
    "print(href)\n"
   ]
  }
 ],
 "metadata": {
  "kernelspec": {
   "display_name": "base",
   "language": "python",
   "name": "python3"
  },
  "language_info": {
   "codemirror_mode": {
    "name": "ipython",
    "version": 3
   },
   "file_extension": ".py",
   "mimetype": "text/x-python",
   "name": "python",
   "nbconvert_exporter": "python",
   "pygments_lexer": "ipython3",
   "version": "3.11.4"
  },
  "orig_nbformat": 4
 },
 "nbformat": 4,
 "nbformat_minor": 2
}
